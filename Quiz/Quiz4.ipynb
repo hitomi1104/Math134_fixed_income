{
 "cells": [
  {
   "cell_type": "code",
   "execution_count": 1,
   "id": "fdb61825",
   "metadata": {},
   "outputs": [],
   "source": [
    "import numpy as np\n",
    "import numpy_financial as npf\n",
    "import pandas as pd\n",
    "import seaborn as sns\n",
    "from sympy import *\n",
    "from pulp import *\n",
    "from scipy.optimize import linprog\n",
    "pd.set_option('display.max_rows', None)\n",
    "\n",
    "import warnings\n",
    "\n",
    "# Configuration\n",
    "warnings.simplefilter('ignore')\n",
    "pd.set_option('max_column', None)\n",
    "sns.set_style(\"darkgrid\")\n",
    "colors = sns.color_palette('Set2')"
   ]
  },
  {
   "cell_type": "code",
   "execution_count": null,
   "id": "809d5cae",
   "metadata": {},
   "outputs": [],
   "source": []
  },
  {
   "cell_type": "code",
   "execution_count": 6,
   "id": "f2ec1a6b",
   "metadata": {},
   "outputs": [
    {
     "data": {
      "text/html": [
       "<div>\n",
       "<style scoped>\n",
       "    .dataframe tbody tr th:only-of-type {\n",
       "        vertical-align: middle;\n",
       "    }\n",
       "\n",
       "    .dataframe tbody tr th {\n",
       "        vertical-align: top;\n",
       "    }\n",
       "\n",
       "    .dataframe thead th {\n",
       "        text-align: right;\n",
       "    }\n",
       "</style>\n",
       "<table border=\"1\" class=\"dataframe\">\n",
       "  <thead>\n",
       "    <tr style=\"text-align: right;\">\n",
       "      <th></th>\n",
       "      <th>project</th>\n",
       "      <th>outlay</th>\n",
       "      <th>present_worth</th>\n",
       "      <th>npv</th>\n",
       "    </tr>\n",
       "  </thead>\n",
       "  <tbody>\n",
       "    <tr>\n",
       "      <th>0</th>\n",
       "      <td>1.0</td>\n",
       "      <td>100.0</td>\n",
       "      <td>200.0</td>\n",
       "      <td>100.0</td>\n",
       "    </tr>\n",
       "    <tr>\n",
       "      <th>1</th>\n",
       "      <td>2.0</td>\n",
       "      <td>200.0</td>\n",
       "      <td>500.0</td>\n",
       "      <td>300.0</td>\n",
       "    </tr>\n",
       "    <tr>\n",
       "      <th>2</th>\n",
       "      <td>3.0</td>\n",
       "      <td>300.0</td>\n",
       "      <td>2300.0</td>\n",
       "      <td>2000.0</td>\n",
       "    </tr>\n",
       "    <tr>\n",
       "      <th>3</th>\n",
       "      <td>4.0</td>\n",
       "      <td>400.0</td>\n",
       "      <td>1200.0</td>\n",
       "      <td>800.0</td>\n",
       "    </tr>\n",
       "    <tr>\n",
       "      <th>4</th>\n",
       "      <td>NaN</td>\n",
       "      <td>500.0</td>\n",
       "      <td>1250.0</td>\n",
       "      <td>750.0</td>\n",
       "    </tr>\n",
       "  </tbody>\n",
       "</table>\n",
       "</div>"
      ],
      "text/plain": [
       "   project  outlay  present_worth     npv\n",
       "0      1.0   100.0          200.0   100.0\n",
       "1      2.0   200.0          500.0   300.0\n",
       "2      3.0   300.0         2300.0  2000.0\n",
       "3      4.0   400.0         1200.0   800.0\n",
       "4      NaN   500.0         1250.0   750.0"
      ]
     },
     "execution_count": 6,
     "metadata": {},
     "output_type": "execute_result"
    }
   ],
   "source": [
    "project = [i for i in range(1,5)]\n",
    "outlay = [100,200,300,400,500]\n",
    "present_worth = [200,500,2300,1200,1250]\n",
    "npv = np.subtract(present_worth, outlay) \n",
    "\n",
    "new_list = [project, outlay, present_worth, npv]\n",
    "df = pd.DataFrame(new_list).transpose()\n",
    "df.columns = ['project', 'outlay', 'present_worth', 'npv']\n",
    "\n",
    "df"
   ]
  },
  {
   "cell_type": "code",
   "execution_count": 7,
   "id": "6a0b91df",
   "metadata": {},
   "outputs": [
    {
     "name": "stdout",
     "output_type": "stream",
     "text": [
      "Optimal\n",
      "a 0.0\n",
      "b 1.0\n",
      "c 1.0\n",
      "d 1.0\n",
      "e 0.0\n"
     ]
    }
   ],
   "source": [
    "# maxmimize npv \n",
    "# constraint of 900 for outlay\n",
    "\n",
    "import pulp as pl\n",
    "\n",
    "# declare some variables\n",
    "# each variable is a binary variable that is either 0 or 1\n",
    "# 1 means the item will go into the knapsack\n",
    "a = pl.LpVariable(\"a\", 0, 1, pl.LpInteger)\n",
    "b = pl.LpVariable(\"b\", 0, 1, pl.LpInteger)\n",
    "c = pl.LpVariable(\"c\", 0, 1, pl.LpInteger)\n",
    "d = pl.LpVariable(\"d\", 0, 1, pl.LpInteger)\n",
    "e = pl.LpVariable(\"e\", 0, 1, pl.LpInteger)\n",
    "\n",
    "\n",
    "# define the problem\n",
    "prob = pl.LpProblem(\"knapsack\", pl.LpMaximize)\n",
    "\n",
    "# objective function - maximize value of objects in knapsack\n",
    "prob += 100 * a + 300 * b + 2000 * c + 800 * d + 750 * e\n",
    "\n",
    "# constraint - weight of objects cannot exceed 15\n",
    "prob += 100 * a + 200 * b + 300 * c + 400 * d + 500 * e <= 900\n",
    "\n",
    "status = prob.solve()  # solve using the default solver, which is cbc\n",
    "print(pl.LpStatus[status])  # print the human-readable status\n",
    "\n",
    "# print the values\n",
    "print(\"a\", pl.value(a))\n",
    "print(\"b\", pl.value(b))\n",
    "print(\"c\", pl.value(c))\n",
    "print(\"d\", pl.value(d))\n",
    "print(\"e\", pl.value(e))"
   ]
  },
  {
   "cell_type": "code",
   "execution_count": 17,
   "id": "313fa082",
   "metadata": {},
   "outputs": [
    {
     "data": {
      "text/plain": [
       "array([0.90909091, 0.83402836, 0.77224848, 0.72172755, 0.68087505,\n",
       "       0.64845243, 0.62351195, 0.60535141, 0.59348177, 0.58760571])"
      ]
     },
     "execution_count": 17,
     "metadata": {},
     "output_type": "execute_result"
    }
   ],
   "source": [
    "#optimization\n",
    "from scipy.optimize import linprog\n",
    "#objective function\n",
    "obj = [100, 200, 300, 400, 500, 600, 700, 800, 900, 1000]\n",
    "\n",
    "#Constraints\n",
    "#lhs-equality\n",
    "lhs_eq = [\n",
    "    [10, 9, 8, 7, 6, 5, 4, 3, 2, 101],\n",
    "    [10, 9, 8, 7, 6, 5, 4, 3, 102, 0],\n",
    "    [10, 9, 8, 7, 6, 5, 4, 103, 0, 0],\n",
    "    [10, 9, 8, 7, 6, 5, 104, 0, 0, 0],\n",
    "    [10, 9, 8, 7, 6, 105, 0, 0, 0, 0],\n",
    "    [10, 9, 8, 7, 106, 0, 0, 0, 0, 0],\n",
    "    [10, 9, 8, 107, 0, 0, 0, 0, 0, 0],\n",
    "    [10, 9, 108, 0, 0, 0, 0, 0, 0, 0],\n",
    "    [10, 109, 0, 0, 0, 0, 0, 0, 0, 0],\n",
    "    [110, 0, 0, 0, 0, 0, 0, 0, 0, 0]\n",
    "    \n",
    "]\n",
    "#rhs-equality\n",
    "rhs_eq = [\n",
    "    100,\n",
    "    100,\n",
    "    100,\n",
    "    100,\n",
    "    100,\n",
    "    100, \n",
    "    100, \n",
    "    100, \n",
    "    100, \n",
    "    100]\n",
    "\n",
    "#bounds\n",
    "bounds = [(0, float(\"inf\")) for x in range(len(obj))]\n",
    "\n",
    "opt = linprog(c=obj,\n",
    "               A_eq=lhs_eq, b_eq=rhs_eq, bounds=bounds,\n",
    "               method=\"simplex\")\n",
    "\n",
    "opt.x"
   ]
  },
  {
   "cell_type": "markdown",
   "id": "550efcdb",
   "metadata": {},
   "source": [
    "10 year 10% coupon bonds are needed to fulfill the 10th year payment only.\n",
    "\n",
    "So, we need to pay 1000 in the 10 th year.\n",
    "\n",
    "Each $ 100 coupon at 10% gives $10 every year to the fund. which when taken to be for 10 Years, becomes $ 100.\n",
    "\n",
    "So, every coupon yeilds $200 at end of 10yrs.\n",
    "\n",
    "1000/200 = 5 (10 year 10% coupon bonds are to be purchased)\n",
    "\n",
    "Answer: 5"
   ]
  },
  {
   "cell_type": "code",
   "execution_count": 18,
   "id": "c31e90e6",
   "metadata": {},
   "outputs": [
    {
     "data": {
      "text/plain": [
       "3550.0681004702324"
      ]
     },
     "execution_count": 18,
     "metadata": {},
     "output_type": "execute_result"
    }
   ],
   "source": [
    "opt.fun"
   ]
  },
  {
   "cell_type": "code",
   "execution_count": null,
   "id": "7138c724",
   "metadata": {},
   "outputs": [],
   "source": []
  },
  {
   "cell_type": "code",
   "execution_count": null,
   "id": "27a7a73b",
   "metadata": {},
   "outputs": [],
   "source": []
  },
  {
   "cell_type": "code",
   "execution_count": null,
   "id": "9c9c534d",
   "metadata": {},
   "outputs": [],
   "source": []
  }
 ],
 "metadata": {
  "kernelspec": {
   "display_name": "Python 3",
   "language": "python",
   "name": "python3"
  },
  "language_info": {
   "codemirror_mode": {
    "name": "ipython",
    "version": 3
   },
   "file_extension": ".py",
   "mimetype": "text/x-python",
   "name": "python",
   "nbconvert_exporter": "python",
   "pygments_lexer": "ipython3",
   "version": "3.8.8"
  },
  "toc": {
   "base_numbering": 1,
   "nav_menu": {},
   "number_sections": true,
   "sideBar": true,
   "skip_h1_title": false,
   "title_cell": "Table of Contents",
   "title_sidebar": "Contents",
   "toc_cell": false,
   "toc_position": {},
   "toc_section_display": true,
   "toc_window_display": false
  }
 },
 "nbformat": 4,
 "nbformat_minor": 5
}
