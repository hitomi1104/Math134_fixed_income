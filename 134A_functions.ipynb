{
 "cells": [
  {
   "cell_type": "code",
   "execution_count": 1,
   "id": "1287b0b1",
   "metadata": {
    "scrolled": true
   },
   "outputs": [],
   "source": [
    "import numpy as np\n",
    "import numpy_financial as npf\n",
    "import pandas as pd\n",
    "import seaborn as sns\n",
    "from sympy import *\n",
    "import math\n",
    "\n",
    "df = pd.read_csv(\"m134_4.csv\")\n",
    "\n",
    "import warnings\n",
    "\n",
    "# Configuration\n",
    "warnings.simplefilter('ignore')\n",
    "pd.set_option('max_column', None)\n",
    "sns.set_style(\"darkgrid\")\n",
    "colors = sns.color_palette('Set2')"
   ]
  },
  {
   "cell_type": "code",
   "execution_count": 1,
   "id": "228f9aaf",
   "metadata": {},
   "outputs": [],
   "source": [
    "#  (P/A,i,n)=(((1+i)^n) -1)/(i(1+i)^n)\n",
    "def present_value(FV, r, n):\n",
    "    PV = FV/(1+r/100)**n\n",
    "    return PV\n",
    "\n",
    "'''\n",
    "FV = Future Value\n",
    "r = Interest Rate\n",
    "n = Number of Periods\n",
    "'''\n",
    "\n",
    "\n",
    "\n",
    "def annuities_perp(p,r,n):\n",
    "    A = (r*(1+r)**n*(p))/((1+r)**n -1)\n",
    "    return A \n",
    "\n",
    "def pv_perp(A, r, n):\n",
    "    p = A/r*(1-(1/(1+r)**n))\n",
    "    return p\n",
    "\n",
    "# Bond price and yield to maturity\n",
    "def bond_price(F, lam, m, n, C):\n",
    "    p = (F/((1+lam/m)**n)) + C/lam*(1-(1/(1+(lam/m))**n))\n",
    "    return n\n",
    "\n",
    "\n",
    "# face_value = 10000\n",
    "# market_price = 9000\n",
    "# n = 4\n",
    "# coupon_payment = 0.05 * 10000\n",
    "def ytm(face_value, market_price, n, coupon_payment):\n",
    "    ytm = ((coupon_payment + (face_value-market_price)/ n)) / ((face_value + market_price)/2)\n",
    "    return (\"The YTM for this bond is: \" + str(ytm*100) + \"%\")\n",
    "\n",
    "'''\n",
    "n: period\n",
    "C: yearly coupon payment\n",
    "F: face value\n",
    "m: # of coupon payments(C) per year\n",
    "P: current price of the bond\n",
    "lam(lambda): yield of maturity\n",
    "'''\n",
    "def Macaulay_duration(c, y, m, n):\n",
    "    D = ((1+y)/m*y) - (1+y+n*(c-y)/m*c*((1+y)**n-1)+ m*y)\n",
    "    return D"
   ]
  },
  {
   "attachments": {
    "image.png": {
     "image/png": "[encoded data removed]"
    }
   },
   "cell_type": "markdown",
   "id": "1e4134b2",
   "metadata": {},
   "source": [
    "![image.png](attachment:image.png)"
   ]
  },
  {
   "cell_type": "code",
   "execution_count": 2,
   "id": "015606d7",
   "metadata": {},
   "outputs": [
    {
     "data": {
      "text/plain": [
       "3819.3223637236306"
      ]
     },
     "execution_count": 2,
     "metadata": {},
     "output_type": "execute_result"
    }
   ],
   "source": [
    "annuities_perp(800000, 0.04/12, 12*30)"
   ]
  },
  {
   "cell_type": "code",
   "execution_count": 3,
   "id": "dd2953bb",
   "metadata": {},
   "outputs": [
    {
     "data": {
      "text/plain": [
       "5870.116591035024"
      ]
     },
     "execution_count": 3,
     "metadata": {},
     "output_type": "execute_result"
    }
   ],
   "source": [
    "annuities_perp(800000, 0.08/12, 12*30)"
   ]
  },
  {
   "cell_type": "code",
   "execution_count": null,
   "id": "e723f73e",
   "metadata": {},
   "outputs": [],
   "source": []
  },
  {
   "cell_type": "code",
   "execution_count": null,
   "id": "fea1b55d",
   "metadata": {},
   "outputs": [],
   "source": []
  },
  {
   "cell_type": "code",
   "execution_count": null,
   "id": "b494be7c",
   "metadata": {},
   "outputs": [],
   "source": []
  },
  {
   "cell_type": "code",
   "execution_count": null,
   "id": "668c633b",
   "metadata": {},
   "outputs": [],
   "source": []
  },
  {
   "cell_type": "code",
   "execution_count": null,
   "id": "64270f8c",
   "metadata": {},
   "outputs": [],
   "source": []
  },
  {
   "cell_type": "code",
   "execution_count": null,
   "id": "065fe2a7",
   "metadata": {},
   "outputs": [],
   "source": []
  },
  {
   "cell_type": "code",
   "execution_count": null,
   "id": "9d115d52",
   "metadata": {},
   "outputs": [],
   "source": []
  },
  {
   "cell_type": "code",
   "execution_count": null,
   "id": "1baa8476",
   "metadata": {},
   "outputs": [],
   "source": []
  },
  {
   "cell_type": "code",
   "execution_count": null,
   "id": "7321ad82",
   "metadata": {},
   "outputs": [],
   "source": []
  },
  {
   "cell_type": "code",
   "execution_count": null,
   "id": "5bd7428a",
   "metadata": {},
   "outputs": [],
   "source": []
  },
  {
   "cell_type": "code",
   "execution_count": null,
   "id": "8714ab44",
   "metadata": {},
   "outputs": [],
   "source": []
  }
 ],
 "metadata": {
  "kernelspec": {
   "display_name": "Python 3",
   "language": "python",
   "name": "python3"
  },
  "language_info": {
   "codemirror_mode": {
    "name": "ipython",
    "version": 3
   },
   "file_extension": ".py",
   "mimetype": "text/x-python",
   "name": "python",
   "nbconvert_exporter": "python",
   "pygments_lexer": "ipython3",
   "version": "3.8.8"
  },
  "toc": {
   "base_numbering": 1,
   "nav_menu": {},
   "number_sections": true,
   "sideBar": true,
   "skip_h1_title": false,
   "title_cell": "Table of Contents",
   "title_sidebar": "Contents",
   "toc_cell": false,
   "toc_position": {},
   "toc_section_display": true,
   "toc_window_display": false
  }
 },
 "nbformat": 4,
 "nbformat_minor": 5
}
