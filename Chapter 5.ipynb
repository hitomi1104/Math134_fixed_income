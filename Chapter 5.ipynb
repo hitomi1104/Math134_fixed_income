{
 "cells": [
  {
   "cell_type": "markdown",
   "id": "0cae769e",
   "metadata": {},
   "source": [
    "**Review**\n",
    "#### Basic Theory of interest\n",
    "Cash flow stream => NPV and IRR\n",
    "#### Fixed income securities\n",
    "bond price, face value, coupons, number of payment per year, yield to maturity, duration (time)\n",
    "\n",
    "=> portofolio immunization, linear set of problems\n",
    "#### Term structure\n",
    "spot rate (collection of the individual different yield to maturity) given by zero coupon bond prices to determine the forwards rates"
   ]
  },
  {
   "cell_type": "markdown",
   "id": "221b7f3d",
   "metadata": {},
   "source": [
    "**Chapter 5**\n",
    "\n",
    "applying in business, optimization\n",
    "\n",
    "bond price x yield to maturity\n",
    "\n",
    "morgage(bond) rate down then rate price goes up and vice versa"
   ]
  },
  {
   "cell_type": "code",
   "execution_count": 1,
   "id": "b2e114b0",
   "metadata": {},
   "outputs": [],
   "source": [
    "import numpy as np\n",
    "import numpy_financial as npf\n",
    "import pandas as pd\n",
    "import seaborn as sns\n",
    "from sympy import *\n",
    "from pulp import *\n",
    "from scipy.optimize import linprog\n",
    "pd.set_option('display.max_rows', None)\n",
    "\n",
    "import warnings\n",
    "\n",
    "# Configuration\n",
    "warnings.simplefilter('ignore')\n",
    "pd.set_option('max_column', None)\n",
    "sns.set_style(\"darkgrid\")\n",
    "colors = sns.color_palette('Set2')"
   ]
  },
  {
   "cell_type": "code",
   "execution_count": 2,
   "id": "47e6f084",
   "metadata": {},
   "outputs": [],
   "source": [
    "# constaint optimization problem\n",
    "# you have 7 projects and budget which one and how much you invest? "
   ]
  },
  {
   "cell_type": "code",
   "execution_count": 3,
   "id": "fc1f85aa",
   "metadata": {},
   "outputs": [],
   "source": [
    "budget = 5000 # all values in k\n",
    "project = [i for i in range(1,8)]\n",
    "outlay = [100,20,150,50,50,150,150]\n",
    "present_worth = [300,50,350,110,100,250,200]\n",
    "# objective\n",
    "npv = np.subtract(present_worth, outlay) \n",
    "\n",
    "new_list = [project, outlay, present_worth, npv]\n",
    "df = pd.DataFrame(new_list).transpose()\n",
    "df.columns = ['project', 'outlay', 'present_worth', 'npv']"
   ]
  },
  {
   "cell_type": "code",
   "execution_count": 4,
   "id": "ca5b2773",
   "metadata": {},
   "outputs": [
    {
     "data": {
      "text/plain": [
       "array([200,  30, 200,  60,  50, 100,  50])"
      ]
     },
     "execution_count": 4,
     "metadata": {},
     "output_type": "execute_result"
    }
   ],
   "source": [
    "npv"
   ]
  },
  {
   "cell_type": "code",
   "execution_count": 5,
   "id": "e4dff161",
   "metadata": {
    "scrolled": false
   },
   "outputs": [
    {
     "data": {
      "text/html": [
       "<div>\n",
       "<style scoped>\n",
       "    .dataframe tbody tr th:only-of-type {\n",
       "        vertical-align: middle;\n",
       "    }\n",
       "\n",
       "    .dataframe tbody tr th {\n",
       "        vertical-align: top;\n",
       "    }\n",
       "\n",
       "    .dataframe thead th {\n",
       "        text-align: right;\n",
       "    }\n",
       "</style>\n",
       "<table border=\"1\" class=\"dataframe\">\n",
       "  <thead>\n",
       "    <tr style=\"text-align: right;\">\n",
       "      <th></th>\n",
       "      <th>project</th>\n",
       "      <th>outlay</th>\n",
       "      <th>present_worth</th>\n",
       "      <th>npv</th>\n",
       "    </tr>\n",
       "  </thead>\n",
       "  <tbody>\n",
       "    <tr>\n",
       "      <th>0</th>\n",
       "      <td>1</td>\n",
       "      <td>100</td>\n",
       "      <td>300</td>\n",
       "      <td>200</td>\n",
       "    </tr>\n",
       "    <tr>\n",
       "      <th>1</th>\n",
       "      <td>2</td>\n",
       "      <td>20</td>\n",
       "      <td>50</td>\n",
       "      <td>30</td>\n",
       "    </tr>\n",
       "    <tr>\n",
       "      <th>2</th>\n",
       "      <td>3</td>\n",
       "      <td>150</td>\n",
       "      <td>350</td>\n",
       "      <td>200</td>\n",
       "    </tr>\n",
       "    <tr>\n",
       "      <th>3</th>\n",
       "      <td>4</td>\n",
       "      <td>50</td>\n",
       "      <td>110</td>\n",
       "      <td>60</td>\n",
       "    </tr>\n",
       "    <tr>\n",
       "      <th>4</th>\n",
       "      <td>5</td>\n",
       "      <td>50</td>\n",
       "      <td>100</td>\n",
       "      <td>50</td>\n",
       "    </tr>\n",
       "    <tr>\n",
       "      <th>5</th>\n",
       "      <td>6</td>\n",
       "      <td>150</td>\n",
       "      <td>250</td>\n",
       "      <td>100</td>\n",
       "    </tr>\n",
       "    <tr>\n",
       "      <th>6</th>\n",
       "      <td>7</td>\n",
       "      <td>150</td>\n",
       "      <td>200</td>\n",
       "      <td>50</td>\n",
       "    </tr>\n",
       "  </tbody>\n",
       "</table>\n",
       "</div>"
      ],
      "text/plain": [
       "   project  outlay  present_worth  npv\n",
       "0        1     100            300  200\n",
       "1        2      20             50   30\n",
       "2        3     150            350  200\n",
       "3        4      50            110   60\n",
       "4        5      50            100   50\n",
       "5        6     150            250  100\n",
       "6        7     150            200   50"
      ]
     },
     "execution_count": 5,
     "metadata": {},
     "output_type": "execute_result"
    }
   ],
   "source": [
    "df"
   ]
  },
  {
   "cell_type": "markdown",
   "id": "fe84afb4",
   "metadata": {},
   "source": [
    "### mixed integer linear programming python"
   ]
  },
  {
   "cell_type": "code",
   "execution_count": 25,
   "id": "47c90e88",
   "metadata": {},
   "outputs": [
    {
     "name": "stdout",
     "output_type": "stream",
     "text": [
      "Optimal\n",
      "a 1.0\n",
      "b 0.0\n",
      "c 1.0\n",
      "d 1.0\n",
      "e 1.0\n",
      "f 1.0\n",
      "g 0.0\n"
     ]
    }
   ],
   "source": [
    "import pulp as pl\n",
    "\n",
    "# declare some variables\n",
    "# each variable is a binary variable that is either 0 or 1\n",
    "# 1 means the item will go into the knapsack\n",
    "a = pl.LpVariable(\"a\", 0, 1, pl.LpInteger)\n",
    "b = pl.LpVariable(\"b\", 0, 1, pl.LpInteger)\n",
    "c = pl.LpVariable(\"c\", 0, 1, pl.LpInteger)\n",
    "d = pl.LpVariable(\"d\", 0, 1, pl.LpInteger)\n",
    "e = pl.LpVariable(\"e\", 0, 1, pl.LpInteger)\n",
    "f = pl.LpVariable(\"f\", 0, 1, pl.LpInteger)\n",
    "g = pl.LpVariable(\"g\", 0, 1, pl.LpInteger)\n",
    "\n",
    "# define the problem\n",
    "prob = pl.LpProblem(\"knapsack\", pl.LpMaximize)\n",
    "\n",
    "# objective function - maximize value of objects in knapsack\n",
    "prob += 200 * a + 30 * b + 200 * c + 60 * d + 50 * e + 100 * f + 50 * g\n",
    "\n",
    "# constraint - weight of objects cannot exceed 15\n",
    "prob += 100 * a + 20 * b + 150 * c + 50 * d + 50 * e + 150 * f + 150 * g <= 500\n",
    "\n",
    "status = prob.solve()  # solve using the default solver, which is cbc\n",
    "print(pl.LpStatus[status])  # print the human-readable status\n",
    "\n",
    "# print the values\n",
    "print(\"a\", pl.value(a))\n",
    "print(\"b\", pl.value(b))\n",
    "print(\"c\", pl.value(c))\n",
    "print(\"d\", pl.value(d))\n",
    "print(\"e\", pl.value(e))\n",
    "print(\"f\", pl.value(f))\n",
    "print(\"g\", pl.value(g))"
   ]
  },
  {
   "cell_type": "markdown",
   "id": "7360ea94",
   "metadata": {},
   "source": [
    "#### 1"
   ]
  },
  {
   "cell_type": "code",
   "execution_count": 26,
   "id": "b6edf7fa",
   "metadata": {},
   "outputs": [
    {
     "name": "stdout",
     "output_type": "stream",
     "text": [
      "Optimal\n",
      "a 1.0\n",
      "b 1.0\n",
      "c 0.0\n",
      "d 0.0\n",
      "e 1.0\n",
      "optimal set of projects are: a:1, b:2, e:5\n"
     ]
    }
   ],
   "source": [
    "import pulp as pl\n",
    "\n",
    "# declare some variables\n",
    "# each variable is a binary variable that is either 0 or 1\n",
    "# 1 means the item will go into the knapsack\n",
    "a = pl.LpVariable(\"a\", 0, 1, pl.LpInteger)\n",
    "b = pl.LpVariable(\"b\", 0, 1, pl.LpInteger)\n",
    "c = pl.LpVariable(\"c\", 0, 1, pl.LpInteger)\n",
    "d = pl.LpVariable(\"d\", 0, 1, pl.LpInteger)\n",
    "e = pl.LpVariable(\"e\", 0, 1, pl.LpInteger)\n",
    "\n",
    "\n",
    "# define the problem\n",
    "prob = pl.LpProblem(\"knapsack\", pl.LpMaximize)\n",
    "\n",
    "# objective function - maximize value of objects in knapsack\n",
    "prob += 100 * a + 200 * b + 100 * c + 50 * d + 100 * e \n",
    "\n",
    "# constraint - weight of objects cannot exceed 15\n",
    "prob += 100 * a + 300 * b + 200 * c + 150 * d + 150 * e <= 600\n",
    "\n",
    "status = prob.solve()  # solve using the default solver, which is cbc\n",
    "print(pl.LpStatus[status])  # print the human-readable status\n",
    "\n",
    "# print the values\n",
    "print(\"a\", pl.value(a))\n",
    "print(\"b\", pl.value(b))\n",
    "print(\"c\", pl.value(c))\n",
    "print(\"d\", pl.value(d))\n",
    "print(\"e\", pl.value(e))\n",
    "\n",
    "print(\"optimal set of projects are: a:1, b:2, e:5\")\n"
   ]
  },
  {
   "cell_type": "markdown",
   "id": "9ca6c5b5",
   "metadata": {},
   "source": [
    "#### 2"
   ]
  },
  {
   "cell_type": "code",
   "execution_count": 27,
   "id": "01e3c707",
   "metadata": {},
   "outputs": [
    {
     "name": "stdout",
     "output_type": "stream",
     "text": [
      "Optimal\n",
      "a 0.0\n",
      "b 1.0\n",
      "c 0.0\n",
      "d 0.0\n",
      "e 0.0\n",
      "f 0.0\n",
      "g 1.0\n",
      "h 0.0\n",
      "i 0.0\n",
      "j 1.0\n",
      "optimal set of projects are: b:2, g:7, j:10\n"
     ]
    }
   ],
   "source": [
    "import pulp as pl\n",
    "\n",
    "# declare some variables\n",
    "# each variable is a binary variable that is either 0 or 1\n",
    "# 1 means the item will go into the knapsack\n",
    "a = pl.LpVariable(\"a\", 0, 1, pl.LpInteger)\n",
    "b = pl.LpVariable(\"b\", 0, 1, pl.LpInteger)\n",
    "c = pl.LpVariable(\"c\", 0, 1, pl.LpInteger)\n",
    "d = pl.LpVariable(\"d\", 0, 1, pl.LpInteger)\n",
    "e = pl.LpVariable(\"e\", 0, 1, pl.LpInteger)\n",
    "f = pl.LpVariable(\"f\", 0, 1, pl.LpInteger)\n",
    "g = pl.LpVariable(\"g\", 0, 1, pl.LpInteger)\n",
    "h = pl.LpVariable(\"h\", 0, 1, pl.LpInteger)\n",
    "i = pl.LpVariable(\"i\", 0, 1, pl.LpInteger)\n",
    "j = pl.LpVariable(\"j\", 0, 1, pl.LpInteger)\n",
    "\n",
    "# define the problem\n",
    "prob = pl.LpProblem(\"knapsack\", pl.LpMaximize)\n",
    "\n",
    "# objective function - maximize value of objects in knapsack\n",
    "prob += 4 * a + 5 * b + 3 * c + 4.3 * d + 1 * e + 1.5 * f + 2.5 * g + .3 * h + 1 * i + 2 * j\n",
    "\n",
    "# constraint - weight of objects cannot exceed 15\n",
    "# prob += 2 * a + 3 * b + 1.5 * c + 2.2 * d + .5 * e + 1.5 * f + 2.5 * g + .1 * h + .6 * i + 1 * j <= 5\n",
    "prob += a + b + c + d <=1\n",
    "prob += e + f + g <=1\n",
    "prob += h + i + j <=1\n",
    "# additional constraint to ex2\n",
    "prob += b + c <=1\n",
    "prob += f + g <=1\n",
    "\n",
    "status = prob.solve()  # solve using the default solver, which is cbc\n",
    "print(pl.LpStatus[status])  # print the human-readable status\n",
    "\n",
    "# print the values\n",
    "print(\"a\", pl.value(a))\n",
    "print(\"b\", pl.value(b))\n",
    "print(\"c\", pl.value(c))\n",
    "print(\"d\", pl.value(d))\n",
    "print(\"e\", pl.value(e))\n",
    "print(\"f\", pl.value(f))\n",
    "print(\"g\", pl.value(g))\n",
    "print(\"h\", pl.value(h))\n",
    "print(\"i\", pl.value(i))\n",
    "print(\"j\", pl.value(j))\n",
    "print(\"optimal set of projects are: b:2, g:7, j:10\")"
   ]
  },
  {
   "cell_type": "markdown",
   "id": "5e3eed5b",
   "metadata": {},
   "source": [
    "#### 3"
   ]
  },
  {
   "cell_type": "code",
   "execution_count": 28,
   "id": "427d2dac",
   "metadata": {},
   "outputs": [
    {
     "name": "stdout",
     "output_type": "stream",
     "text": [
      "Optimal\n",
      "a 0.0\n",
      "b 1.0\n",
      "c 0.0\n",
      "d 1.0\n",
      "e 1.0\n",
      "f 0.0\n",
      "g 1.0\n",
      "project b:2, d:4, e:5, g:7 are: 220\n",
      "Optimal\n",
      "a 0.0\n",
      "b 0.0\n",
      "c 0.0\n",
      "d 1.0\n",
      "e 1.0\n",
      "f 1.0\n",
      "g 1.0\n",
      "project d:4,e:5,f:6,g:7 should be carried out\n"
     ]
    }
   ],
   "source": [
    "import pulp as pl\n",
    "\n",
    "# declare some variables\n",
    "# each variable is a binary variable that is either 0 or 1\n",
    "# 1 means the item will go into the knapsack\n",
    "a = pl.LpVariable(\"a\", 0, 1, pl.LpInteger)\n",
    "b = pl.LpVariable(\"b\", 0, 1, pl.LpInteger)\n",
    "c = pl.LpVariable(\"c\", 0, 1, pl.LpInteger)\n",
    "d = pl.LpVariable(\"d\", 0, 1, pl.LpInteger)\n",
    "e = pl.LpVariable(\"e\", 0, 1, pl.LpInteger)\n",
    "f = pl.LpVariable(\"f\", 0, 1, pl.LpInteger)\n",
    "g = pl.LpVariable(\"g\", 0, 1, pl.LpInteger)\n",
    "\n",
    "# define the problem\n",
    "prob = pl.LpProblem(\"knapsack\", pl.LpMaximize)\n",
    "\n",
    "# objective function - maximize value of objects in knapsack\n",
    "prob += 150 * a + 200 * b + 100 * c + 100 * d + 120 * e + 150 * f + 240 * g\n",
    "\n",
    "# constraint - weight of objects cannot exceed 15\n",
    "prob += 90 * a + 80 * b + 50 * c + 20 * d + 40 * e + 80 * f + 80 * g <= 250\n",
    "# prob += 58 * a + 80 * b + 100 * c + 64 * d + 50 * e + 20 * f + 100 * g <= 250 + 250*1.1\n",
    "\n",
    "status = prob.solve()  # solve using the default solver, which is cbc\n",
    "print(pl.LpStatus[status])  # print the human-readable status\n",
    "\n",
    "# print the values\n",
    "print(\"a\", pl.value(a))\n",
    "print(\"b\", pl.value(b))\n",
    "print(\"c\", pl.value(c))\n",
    "print(\"d\", pl.value(d))\n",
    "print(\"e\", pl.value(e))\n",
    "print(\"f\", pl.value(f))\n",
    "print(\"g\", pl.value(g))\n",
    "\n",
    "print(\"project b:2, d:4, e:5, g:7 are:\", 80+20+40+80)\n",
    "\n",
    "# objective function - maximize value of objects in knapsack\n",
    "prob += 150 * a + 200 * b + 100 * c + 100 * d + 120 * e + 150 * f + 240 * g\n",
    "\n",
    "# constraint - weight of objects cannot exceed 15\n",
    "# prob += 90 * a + 80 * b + 50 * c + 20 * d + 40 * e + 80 * f + 80 * g <= 250\n",
    "prob += 58 * a + 80 * b + 100 * c + 64 * d + 50 * e + 20 * f + 100 * g <= 250 + (250-220)*1.1\n",
    "\n",
    "status = prob.solve()  # solve using the default solver, which is cbc\n",
    "print(pl.LpStatus[status])  # print the human-readable status\n",
    "\n",
    "# print the values\n",
    "print(\"a\", pl.value(a))\n",
    "print(\"b\", pl.value(b))\n",
    "print(\"c\", pl.value(c))\n",
    "print(\"d\", pl.value(d))\n",
    "print(\"e\", pl.value(e))\n",
    "print(\"f\", pl.value(f))\n",
    "print(\"g\", pl.value(g))\n",
    "\n",
    "print(\"project d:4,e:5,f:6,g:7 should be carried out\")"
   ]
  },
  {
   "cell_type": "code",
   "execution_count": null,
   "id": "f04b4bd3",
   "metadata": {},
   "outputs": [],
   "source": []
  },
  {
   "cell_type": "code",
   "execution_count": null,
   "id": "ccf5bd19",
   "metadata": {},
   "outputs": [],
   "source": []
  },
  {
   "cell_type": "code",
   "execution_count": null,
   "id": "9864feef",
   "metadata": {},
   "outputs": [],
   "source": []
  },
  {
   "cell_type": "code",
   "execution_count": null,
   "id": "17cb612f",
   "metadata": {},
   "outputs": [],
   "source": []
  },
  {
   "cell_type": "code",
   "execution_count": null,
   "id": "82309774",
   "metadata": {},
   "outputs": [],
   "source": []
  },
  {
   "cell_type": "markdown",
   "id": "01464d02",
   "metadata": {},
   "source": [
    "Ownership - stocks house etc = grow money\n",
    "\n",
    "securities = bonds\n",
    "\n",
    "portofolio => deversify (don't focus on one bond)\n",
    "\n",
    "- maximum return with minimum risk\n",
    "- bonds price goes up, rate goes up, inflation... expectation changes ~ bond yields... \n",
    "- default (bankrupt)\n",
    "- manage default risk... detect fraud is difficult, the way to manage is to **deversify**"
   ]
  },
  {
   "cell_type": "markdown",
   "id": "335c34fb",
   "metadata": {},
   "source": [
    "# Cash matching \n",
    "\n",
    "construct s bond portofolio that matches:\n",
    "\n",
    "https://medium.datadriveninvestor.com/asset-liability-management-bond-dedication-through-python-3485300ebc24"
   ]
  },
  {
   "cell_type": "code",
   "execution_count": 1,
   "id": "67368fcf",
   "metadata": {
    "scrolled": true
   },
   "outputs": [
    {
     "ename": "ValueError",
     "evalue": "Invalid input for linprog: b_eq must be a 1D array; b_eq must not have more than one non-singleton dimension and the number of rows in A_eq must equal the number of values in b_eq",
     "output_type": "error",
     "traceback": [
      "\u001b[0;31m---------------------------------------------------------------------------\u001b[0m",
      "\u001b[0;31mValueError\u001b[0m                                Traceback (most recent call last)",
      "\u001b[0;32m<ipython-input-1-f34ccf770e64>\u001b[0m in \u001b[0;36m<module>\u001b[0;34m\u001b[0m\n\u001b[1;32m     32\u001b[0m \u001b[0mbounds\u001b[0m \u001b[0;34m=\u001b[0m \u001b[0;34m[\u001b[0m\u001b[0;34m(\u001b[0m\u001b[0;36m0\u001b[0m\u001b[0;34m,\u001b[0m \u001b[0mfloat\u001b[0m\u001b[0;34m(\u001b[0m\u001b[0;34m\"inf\"\u001b[0m\u001b[0;34m)\u001b[0m\u001b[0;34m)\u001b[0m \u001b[0;32mfor\u001b[0m \u001b[0mx\u001b[0m \u001b[0;32min\u001b[0m \u001b[0mrange\u001b[0m\u001b[0;34m(\u001b[0m\u001b[0mlen\u001b[0m\u001b[0;34m(\u001b[0m\u001b[0mobj\u001b[0m\u001b[0;34m)\u001b[0m\u001b[0;34m)\u001b[0m\u001b[0;34m]\u001b[0m\u001b[0;34m\u001b[0m\u001b[0;34m\u001b[0m\u001b[0m\n\u001b[1;32m     33\u001b[0m \u001b[0;34m\u001b[0m\u001b[0m\n\u001b[0;32m---> 34\u001b[0;31m opt = linprog(c=obj,\n\u001b[0m\u001b[1;32m     35\u001b[0m                \u001b[0mA_eq\u001b[0m\u001b[0;34m=\u001b[0m\u001b[0mlhs_eq\u001b[0m\u001b[0;34m,\u001b[0m \u001b[0mb_eq\u001b[0m\u001b[0;34m=\u001b[0m\u001b[0mrhs_eq\u001b[0m\u001b[0;34m,\u001b[0m \u001b[0mbounds\u001b[0m\u001b[0;34m=\u001b[0m\u001b[0mbounds\u001b[0m\u001b[0;34m,\u001b[0m\u001b[0;34m\u001b[0m\u001b[0;34m\u001b[0m\u001b[0m\n\u001b[1;32m     36\u001b[0m                method=\"simplex\")\n",
      "\u001b[0;32m~/opt/anaconda3/lib/python3.8/site-packages/scipy/optimize/_linprog.py\u001b[0m in \u001b[0;36mlinprog\u001b[0;34m(c, A_ub, b_ub, A_eq, b_eq, bounds, method, callback, options, x0)\u001b[0m\n\u001b[1;32m    514\u001b[0m         \u001b[0mwarn\u001b[0m\u001b[0;34m(\u001b[0m\u001b[0mwarning_message\u001b[0m\u001b[0;34m,\u001b[0m \u001b[0mOptimizeWarning\u001b[0m\u001b[0;34m)\u001b[0m\u001b[0;34m\u001b[0m\u001b[0;34m\u001b[0m\u001b[0m\n\u001b[1;32m    515\u001b[0m \u001b[0;34m\u001b[0m\u001b[0m\n\u001b[0;32m--> 516\u001b[0;31m     c, A_ub, b_ub, A_eq, b_eq, bounds, solver_options, x0 = _parse_linprog(\n\u001b[0m\u001b[1;32m    517\u001b[0m         c, A_ub, b_ub, A_eq, b_eq, bounds, options, x0)\n\u001b[1;32m    518\u001b[0m     \u001b[0mtol\u001b[0m \u001b[0;34m=\u001b[0m \u001b[0msolver_options\u001b[0m\u001b[0;34m.\u001b[0m\u001b[0mget\u001b[0m\u001b[0;34m(\u001b[0m\u001b[0;34m'tol'\u001b[0m\u001b[0;34m,\u001b[0m \u001b[0;36m1e-9\u001b[0m\u001b[0;34m)\u001b[0m\u001b[0;34m\u001b[0m\u001b[0;34m\u001b[0m\u001b[0m\n",
      "\u001b[0;32m~/opt/anaconda3/lib/python3.8/site-packages/scipy/optimize/_linprog_util.py\u001b[0m in \u001b[0;36m_parse_linprog\u001b[0;34m(c, A_ub, b_ub, A_eq, b_eq, bounds, options, x0)\u001b[0m\n\u001b[1;32m    877\u001b[0m     \u001b[0msolver_options\u001b[0m\u001b[0;34m,\u001b[0m \u001b[0mA_ub\u001b[0m\u001b[0;34m,\u001b[0m \u001b[0mA_eq\u001b[0m \u001b[0;34m=\u001b[0m \u001b[0m_check_sparse_inputs\u001b[0m\u001b[0;34m(\u001b[0m\u001b[0msolver_options\u001b[0m\u001b[0;34m,\u001b[0m \u001b[0mA_ub\u001b[0m\u001b[0;34m,\u001b[0m \u001b[0mA_eq\u001b[0m\u001b[0;34m)\u001b[0m\u001b[0;34m\u001b[0m\u001b[0;34m\u001b[0m\u001b[0m\n\u001b[1;32m    878\u001b[0m     \u001b[0;31m# Convert lists to numpy arrays, etc...\u001b[0m\u001b[0;34m\u001b[0m\u001b[0;34m\u001b[0m\u001b[0;34m\u001b[0m\u001b[0m\n\u001b[0;32m--> 879\u001b[0;31m     c, A_ub, b_ub, A_eq, b_eq, bounds, x0 = _clean_inputs(\n\u001b[0m\u001b[1;32m    880\u001b[0m         c, A_ub, b_ub, A_eq, b_eq, bounds, x0)\n\u001b[1;32m    881\u001b[0m     \u001b[0;32mreturn\u001b[0m \u001b[0mc\u001b[0m\u001b[0;34m,\u001b[0m \u001b[0mA_ub\u001b[0m\u001b[0;34m,\u001b[0m \u001b[0mb_ub\u001b[0m\u001b[0;34m,\u001b[0m \u001b[0mA_eq\u001b[0m\u001b[0;34m,\u001b[0m \u001b[0mb_eq\u001b[0m\u001b[0;34m,\u001b[0m \u001b[0mbounds\u001b[0m\u001b[0;34m,\u001b[0m \u001b[0msolver_options\u001b[0m\u001b[0;34m,\u001b[0m \u001b[0mx0\u001b[0m\u001b[0;34m\u001b[0m\u001b[0;34m\u001b[0m\u001b[0m\n",
      "\u001b[0;32m~/opt/anaconda3/lib/python3.8/site-packages/scipy/optimize/_linprog_util.py\u001b[0m in \u001b[0;36m_clean_inputs\u001b[0;34m(c, A_ub, b_ub, A_eq, b_eq, bounds, x0)\u001b[0m\n\u001b[1;32m    273\u001b[0m     \u001b[0;32melse\u001b[0m\u001b[0;34m:\u001b[0m\u001b[0;34m\u001b[0m\u001b[0;34m\u001b[0m\u001b[0m\n\u001b[1;32m    274\u001b[0m         \u001b[0;32mif\u001b[0m \u001b[0mb_eq\u001b[0m\u001b[0;34m.\u001b[0m\u001b[0mshape\u001b[0m \u001b[0;34m!=\u001b[0m \u001b[0;34m(\u001b[0m\u001b[0mn_eq\u001b[0m\u001b[0;34m,\u001b[0m\u001b[0;34m)\u001b[0m\u001b[0;34m:\u001b[0m\u001b[0;34m\u001b[0m\u001b[0;34m\u001b[0m\u001b[0m\n\u001b[0;32m--> 275\u001b[0;31m             raise ValueError(\n\u001b[0m\u001b[1;32m    276\u001b[0m                 \u001b[0;34m\"Invalid input for linprog: b_eq must be a 1D array; b_eq \"\u001b[0m\u001b[0;34m\u001b[0m\u001b[0;34m\u001b[0m\u001b[0m\n\u001b[1;32m    277\u001b[0m                 \u001b[0;34m\"must not have more than one non-singleton dimension and \"\u001b[0m\u001b[0;34m\u001b[0m\u001b[0;34m\u001b[0m\u001b[0m\n",
      "\u001b[0;31mValueError\u001b[0m: Invalid input for linprog: b_eq must be a 1D array; b_eq must not have more than one non-singleton dimension and the number of rows in A_eq must equal the number of values in b_eq"
     ]
    }
   ],
   "source": [
    "#optimization\n",
    "from scipy.optimize import linprog\n",
    "#objective function\n",
    "obj = [109, 94.8, 99.5, 93.1, 97.2, 92.9, 110, 104, 102, 95.2]\n",
    "\n",
    "#Constraints\n",
    "#lhs-equality\n",
    "lhs_eq = [\n",
    "    [10, 7, 8, 6, 7, 5, 10, 8, 7, 100],\n",
    "    [10, 7, 8, 6, 7, 5, 10, 8, 107, 0],\n",
    "    [10, 7, 8, 6, 7, 5, 110, 108, 0, 0],\n",
    "    [10, 7, 8, 6, 7, 105, 0, 0, 0, 0],\n",
    "    [10, 7, 8, 106, 107, 0, 0, 0, 0, 0],\n",
    "    [110, 107, 108, 0, 0, 0, 0, 0, 0, 0]\n",
    "]\n",
    "#rhs-equality\n",
    "rhs_eq = [\n",
    "    100,\n",
    "    100,\n",
    "    100,\n",
    "    100,\n",
    "    100,\n",
    "    100, \n",
    "    100, \n",
    "    100, \n",
    "    100, \n",
    "    100, \n",
    "    100\n",
    "]\n",
    "\n",
    "#bounds\n",
    "bounds = [(0, float(\"inf\")) for x in range(len(obj))]\n",
    "\n",
    "opt = linprog(c=obj,\n",
    "               A_eq=lhs_eq, b_eq=rhs_eq, bounds=bounds,\n",
    "               method=\"simplex\")\n",
    "\n",
    "opt.x"
   ]
  },
  {
   "cell_type": "code",
   "execution_count": 2,
   "id": "9b8b28e5",
   "metadata": {},
   "outputs": [
    {
     "data": {
      "text/plain": [
       "10"
      ]
     },
     "execution_count": 2,
     "metadata": {},
     "output_type": "execute_result"
    }
   ],
   "source": [
    "len([10, 7, 8, 6, 7, 5, 10, 8, 7, 100])"
   ]
  },
  {
   "cell_type": "code",
   "execution_count": 3,
   "id": "b0731d02",
   "metadata": {},
   "outputs": [
    {
     "ename": "NameError",
     "evalue": "name 'opt' is not defined",
     "output_type": "error",
     "traceback": [
      "\u001b[0;31m---------------------------------------------------------------------------\u001b[0m",
      "\u001b[0;31mNameError\u001b[0m                                 Traceback (most recent call last)",
      "\u001b[0;32m<ipython-input-3-7751a2cfb950>\u001b[0m in \u001b[0;36m<module>\u001b[0;34m\u001b[0m\n\u001b[0;32m----> 1\u001b[0;31m \u001b[0mopt\u001b[0m\u001b[0;34m.\u001b[0m\u001b[0mfun\u001b[0m\u001b[0;34m\u001b[0m\u001b[0;34m\u001b[0m\u001b[0m\n\u001b[0m",
      "\u001b[0;31mNameError\u001b[0m: name 'opt' is not defined"
     ]
    }
   ],
   "source": [
    "opt.fun"
   ]
  },
  {
   "cell_type": "code",
   "execution_count": 32,
   "id": "cd575cb6",
   "metadata": {},
   "outputs": [
    {
     "data": {
      "text/plain": [
       "array([ 0.        , 11.21495327,  0.        ,  6.63384513,  0.        ,\n",
       "        0.        ,  0.        ,  6.00868362,  0.        ,  0.        ,\n",
       "       66.37721263, 32.75442526,  0.        , 18.30774366,  0.        ,\n",
       "        0.        ])"
      ]
     },
     "execution_count": 32,
     "metadata": {},
     "output_type": "execute_result"
    }
   ],
   "source": [
    "#objective function\n",
    "obj = [109, 94.8, 99.5, 93.1, 97.2, 92.9, 110, 104, 102, 95.2, 0, 0, 0, 0, 0, 0 ]\n",
    "\n",
    "#lhs-equality\n",
    "lhs_eq = [\n",
    "    [10, 7, 8, 6, 7, 5, 10, 8, 7, 100, -1, 0, 0, 0, 0, 0],\n",
    "    [10, 7, 8, 6, 7, 5, 10, 8, 107, 0, 1, -1, 0, 0, 0, 0],\n",
    "    [10, 7, 8, 6, 7, 5, 110, 108, 0, 0, 0, 1, -1, 0, 0, 0],\n",
    "    [10, 7, 8, 6, 7, 105, 0, 0, 0, 0, 0, 0, 1, -1, 0, 0],\n",
    "    [10, 7, 8, 106, 107, 0, 0, 0, 0, 0, 0, 0, 0, 1, -1, 0],\n",
    "    [110, 107, 108, 0, 0, 0, 0, 0, 0, 0, 0, 0, 0, 0, 1, -1]\n",
    "]\n",
    "\n",
    "#rhs-equality\n",
    "rhs_eq = [\n",
    "    100,\n",
    "    200,\n",
    "    800,\n",
    "    100,\n",
    "    800,\n",
    "    1200\n",
    "]\n",
    "\n",
    "#bounds\n",
    "bounds = [(0, float(\"inf\")) for x in range(len(obj))]\n",
    "\n",
    "opt = linprog(c=obj,\n",
    "               A_eq=lhs_eq, b_eq=rhs_eq, bounds=bounds,\n",
    "               method=\"simplex\")\n",
    "\n",
    "opt.x"
   ]
  },
  {
   "cell_type": "code",
   "execution_count": 33,
   "id": "0b20c60c",
   "metadata": {},
   "outputs": [
    {
     "data": {
      "text/plain": [
       "2305.6916480037903"
      ]
     },
     "execution_count": 33,
     "metadata": {},
     "output_type": "execute_result"
    }
   ],
   "source": [
    "opt.fun"
   ]
  },
  {
   "cell_type": "code",
   "execution_count": null,
   "id": "6e626c04",
   "metadata": {},
   "outputs": [],
   "source": []
  },
  {
   "cell_type": "code",
   "execution_count": null,
   "id": "1891152a",
   "metadata": {},
   "outputs": [],
   "source": []
  },
  {
   "cell_type": "code",
   "execution_count": null,
   "id": "30810b66",
   "metadata": {},
   "outputs": [],
   "source": []
  }
 ],
 "metadata": {
  "kernelspec": {
   "display_name": "Python 3",
   "language": "python",
   "name": "python3"
  },
  "language_info": {
   "codemirror_mode": {
    "name": "ipython",
    "version": 3
   },
   "file_extension": ".py",
   "mimetype": "text/x-python",
   "name": "python",
   "nbconvert_exporter": "python",
   "pygments_lexer": "ipython3",
   "version": "3.8.8"
  },
  "toc": {
   "base_numbering": 1,
   "nav_menu": {},
   "number_sections": true,
   "sideBar": true,
   "skip_h1_title": false,
   "title_cell": "Table of Contents",
   "title_sidebar": "Contents",
   "toc_cell": false,
   "toc_position": {},
   "toc_section_display": true,
   "toc_window_display": false
  }
 },
 "nbformat": 4,
 "nbformat_minor": 5
}
