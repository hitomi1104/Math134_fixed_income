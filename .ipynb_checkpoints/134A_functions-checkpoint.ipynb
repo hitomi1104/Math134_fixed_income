{
 "cells": [
  {
   "cell_type": "code",
   "execution_count": 4,
   "id": "1287b0b1",
   "metadata": {
    "scrolled": true
   },
   "outputs": [
    {
     "ename": "ModuleNotFoundError",
     "evalue": "No module named 'fincal'",
     "output_type": "error",
     "traceback": [
      "\u001b[0;31m---------------------------------------------------------------------------\u001b[0m",
      "\u001b[0;31mModuleNotFoundError\u001b[0m                       Traceback (most recent call last)",
      "\u001b[0;32m<ipython-input-4-bc3fb25f9dbb>\u001b[0m in \u001b[0;36m<module>\u001b[0;34m\u001b[0m\n\u001b[1;32m      4\u001b[0m \u001b[0;32mimport\u001b[0m \u001b[0mseaborn\u001b[0m \u001b[0;32mas\u001b[0m \u001b[0msns\u001b[0m\u001b[0;34m\u001b[0m\u001b[0;34m\u001b[0m\u001b[0m\n\u001b[1;32m      5\u001b[0m \u001b[0;32mfrom\u001b[0m \u001b[0msympy\u001b[0m \u001b[0;32mimport\u001b[0m \u001b[0;34m*\u001b[0m\u001b[0;34m\u001b[0m\u001b[0;34m\u001b[0m\u001b[0m\n\u001b[0;32m----> 6\u001b[0;31m \u001b[0;32mimport\u001b[0m \u001b[0mfincal\u001b[0m\u001b[0;34m\u001b[0m\u001b[0;34m\u001b[0m\u001b[0m\n\u001b[0m\u001b[1;32m      7\u001b[0m \u001b[0mx\u001b[0m \u001b[0;34m=\u001b[0m \u001b[0mSymbol\u001b[0m\u001b[0;34m(\u001b[0m\u001b[0;34m'x'\u001b[0m\u001b[0;34m)\u001b[0m\u001b[0;34m\u001b[0m\u001b[0;34m\u001b[0m\u001b[0m\n\u001b[1;32m      8\u001b[0m \u001b[0;34m\u001b[0m\u001b[0m\n",
      "\u001b[0;31mModuleNotFoundError\u001b[0m: No module named 'fincal'"
     ]
    }
   ],
   "source": [
    "import numpy as np\n",
    "import numpy_financial as npf\n",
    "import pandas as pd\n",
    "import seaborn as sns\n",
    "from sympy import *\n",
    "import fincal\n",
    "x = Symbol('x')\n",
    "\n",
    "import warnings\n",
    "\n",
    "# Configuration\n",
    "warnings.simplefilter('ignore')\n",
    "pd.set_option('max_column', None)\n",
    "sns.set_style(\"darkgrid\")\n",
    "colors = sns.color_palette('Set2')"
   ]
  },
  {
   "cell_type": "code",
   "execution_count": 2,
   "id": "228f9aaf",
   "metadata": {},
   "outputs": [],
   "source": [
    "#  (P/A,i,n)=(((1+i)^n) -1)/(i(1+i)^n)\n",
    "def present_value(FV, r, n):\n",
    "    PV = FV/(1+r/100)**n\n",
    "    return PV\n",
    "\n",
    "'''\n",
    "FV = Future Value\n",
    "r = Interest Rate\n",
    "n = Number of Periods\n",
    "'''\n",
    "\n",
    "\n",
    "\n",
    "def annuities_perp(p,r,n):\n",
    "    A = (r*(1+r)**n*(p))/((1+r)**n -1)\n",
    "    return A \n",
    "\n",
    "def pv_perp(A, r, n):\n",
    "    p = A/r*(1-(1/(1+r)**n))\n",
    "    return p\n",
    "\n",
    "# Bond price and yield to maturity\n",
    "def bond_price(F, lam, m, n, C):\n",
    "    p = (F/((1+lam/m)**n)) + C/lam*(1-(1/(1+(lam/m))**n))\n",
    "    return n\n",
    "'''\n",
    "n: period\n",
    "C: yearly coupon payment\n",
    "F: face value\n",
    "m: # of coupon payments(C) per year\n",
    "P: current price of the bond\n",
    "lam(lambda): yield of maturity\n",
    "'''\n",
    "\n",
    "def Macaulay_duration(c, y, m, n):\n",
    "    D = ((1+y)/m*y) - (1+y+n*(c-y)/m*c*((1+y)**n-1)+ m*y)\n",
    "    return D"
   ]
  },
  {
   "cell_type": "code",
   "execution_count": null,
   "id": "f7eea90d",
   "metadata": {},
   "outputs": [],
   "source": [
    "'''Chapter 4'''\n",
    "'''\n",
    "A payback period is defined as the number of years needed to recover the initial investment. \n",
    "Assume that the initial investment is $100. If every year the firm could recover $30, \n",
    "then the payback period is 3.3 years:\n",
    "'''\n",
    "\n",
    "\n"
   ]
  }
 ],
 "metadata": {
  "kernelspec": {
   "display_name": "Python 3",
   "language": "python",
   "name": "python3"
  },
  "language_info": {
   "codemirror_mode": {
    "name": "ipython",
    "version": 3
   },
   "file_extension": ".py",
   "mimetype": "text/x-python",
   "name": "python",
   "nbconvert_exporter": "python",
   "pygments_lexer": "ipython3",
   "version": "3.8.8"
  },
  "toc": {
   "base_numbering": 1,
   "nav_menu": {},
   "number_sections": true,
   "sideBar": true,
   "skip_h1_title": false,
   "title_cell": "Table of Contents",
   "title_sidebar": "Contents",
   "toc_cell": false,
   "toc_position": {},
   "toc_section_display": true,
   "toc_window_display": false
  }
 },
 "nbformat": 4,
 "nbformat_minor": 5
}
