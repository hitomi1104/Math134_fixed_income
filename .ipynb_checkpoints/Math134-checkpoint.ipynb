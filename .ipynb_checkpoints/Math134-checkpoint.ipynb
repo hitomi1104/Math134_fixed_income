{
 "cells": [
  {
   "cell_type": "markdown",
   "id": "1d370334",
   "metadata": {},
   "source": [
    "numpy finance: https://pypi.org/project/numpy-financial/"
   ]
  },
  {
   "cell_type": "code",
   "execution_count": 1,
   "id": "2d9d99c7",
   "metadata": {},
   "outputs": [
    {
     "ename": "NameError",
     "evalue": "name 'pd' is not defined",
     "output_type": "error",
     "traceback": [
      "\u001b[0;31m---------------------------------------------------------------------------\u001b[0m",
      "\u001b[0;31mNameError\u001b[0m                                 Traceback (most recent call last)",
      "\u001b[0;32m<ipython-input-1-be04befd78e4>\u001b[0m in \u001b[0;36m<module>\u001b[0;34m\u001b[0m\n\u001b[1;32m      6\u001b[0m \u001b[0;31m# Configuration\u001b[0m\u001b[0;34m\u001b[0m\u001b[0;34m\u001b[0m\u001b[0;34m\u001b[0m\u001b[0m\n\u001b[1;32m      7\u001b[0m \u001b[0mwarnings\u001b[0m\u001b[0;34m.\u001b[0m\u001b[0msimplefilter\u001b[0m\u001b[0;34m(\u001b[0m\u001b[0;34m'ignore'\u001b[0m\u001b[0;34m)\u001b[0m\u001b[0;34m\u001b[0m\u001b[0;34m\u001b[0m\u001b[0m\n\u001b[0;32m----> 8\u001b[0;31m \u001b[0mpd\u001b[0m\u001b[0;34m.\u001b[0m\u001b[0mset_option\u001b[0m\u001b[0;34m(\u001b[0m\u001b[0;34m'max_column'\u001b[0m\u001b[0;34m,\u001b[0m \u001b[0;32mNone\u001b[0m\u001b[0;34m)\u001b[0m\u001b[0;34m\u001b[0m\u001b[0;34m\u001b[0m\u001b[0m\n\u001b[0m\u001b[1;32m      9\u001b[0m \u001b[0msns\u001b[0m\u001b[0;34m.\u001b[0m\u001b[0mset_style\u001b[0m\u001b[0;34m(\u001b[0m\u001b[0;34m\"darkgrid\"\u001b[0m\u001b[0;34m)\u001b[0m\u001b[0;34m\u001b[0m\u001b[0;34m\u001b[0m\u001b[0m\n\u001b[1;32m     10\u001b[0m \u001b[0mcolors\u001b[0m \u001b[0;34m=\u001b[0m \u001b[0msns\u001b[0m\u001b[0;34m.\u001b[0m\u001b[0mcolor_palette\u001b[0m\u001b[0;34m(\u001b[0m\u001b[0;34m'Set2'\u001b[0m\u001b[0;34m)\u001b[0m\u001b[0;34m\u001b[0m\u001b[0;34m\u001b[0m\u001b[0m\n",
      "\u001b[0;31mNameError\u001b[0m: name 'pd' is not defined"
     ]
    }
   ],
   "source": [
    "import numpy as np\n",
    "import numpy_financial as npf\n",
    "\n",
    "import warnings\n",
    "\n",
    "# Configuration\n",
    "warnings.simplefilter('ignore')\n",
    "pd.set_option('max_column', None)\n",
    "sns.set_style(\"darkgrid\")\n",
    "colors = sns.color_palette('Set2')"
   ]
  },
  {
   "cell_type": "code",
   "execution_count": 2,
   "id": "8ec813ec",
   "metadata": {},
   "outputs": [
    {
     "name": "stdout",
     "output_type": "stream",
     "text": [
      "NPV value with rate  0.1  is:  0.8181818181818181\n",
      "NPV value with rate  0.1  is:  1.4793388429752063\n",
      "NPV value with rate  0.1  is:  2.00525920360631\n",
      "NPV value with rate  0.1  is:  2.4150672768253525\n",
      "NPV value with rate  0.1  is:  2.72552793835493\n",
      "NPV value with rate  0.1  is:  2.95131751037644\n",
      "NPV value with rate  0.1  is:  3.1052649458456516\n",
      "NPV value with rate  0.1  is:  3.1985664218875973\n",
      "NPV value with rate  0.1  is:  3.240976183724846\n",
      "NPV value with rate  0.1  is:  3.240976183724846\n",
      "NPV value with rate  0.1  is:  3.2059267937767064\n"
     ]
    }
   ],
   "source": [
    "#Program to show working of NPV\n",
    "import numpy as np\n",
    "\n",
    "#declaring values\n",
    "v1 = [-1,2]\n",
    "v2 = [-1,0,3]\n",
    "v3 = [-1,0,0,4]\n",
    "v4 = [-1,0,0,0,5]\n",
    "v5 = [-1,0,0,0,0,6]\n",
    "v6 = [-1,0,0,0,0,0,7]\n",
    "v7 = [-1,0,0,0,0,0,0,8]\n",
    "v8 = [-1,0,0,0,0,0,0,0,9]\n",
    "v9 = [-1,0,0,0,0,0,0,0,0,10]\n",
    "v10 = [-1,0,0,0,0,0,0,0,0,0,11]\n",
    "v11 = [-1,0,0,0,0,0,0,0,0,0,0,12]\n",
    "rate = .1\n",
    "#Printing NPV Values\n",
    "print(\"NPV value with rate \", rate, \" is: \", np.npv(rate, v1))\n",
    "print(\"NPV value with rate \", rate, \" is: \", np.npv(rate, v2))\n",
    "print(\"NPV value with rate \", rate, \" is: \", np.npv(rate, v3))\n",
    "print(\"NPV value with rate \", rate, \" is: \", np.npv(rate, v4))\n",
    "print(\"NPV value with rate \", rate, \" is: \", np.npv(rate, v5))\n",
    "print(\"NPV value with rate \", rate, \" is: \", np.npv(rate, v6))\n",
    "print(\"NPV value with rate \", rate, \" is: \", np.npv(rate, v7))\n",
    "print(\"NPV value with rate \", rate, \" is: \", np.npv(rate, v8))\n",
    "print(\"NPV value with rate \", rate, \" is: \", np.npv(rate, v9))\n",
    "print(\"NPV value with rate \", rate, \" is: \", np.npv(rate, v10))\n",
    "print(\"NPV value with rate \", rate, \" is: \", np.npv(rate, v11))"
   ]
  },
  {
   "cell_type": "code",
   "execution_count": 4,
   "id": "86ded45b",
   "metadata": {},
   "outputs": [
    {
     "name": "stdout",
     "output_type": "stream",
     "text": [
      "NPV value with rate  0.01  is:  5853.431239325119\n",
      "NPV value with rate  0.01  is:  6268.088115392608\n",
      "NPV value with rate  0.01  is:  11367.628248219475\n",
      "NPV value with rate  0.01  is:  11230.865423397529\n"
     ]
    }
   ],
   "source": [
    "cf1 = [1000, 1000, 1000, 1000, 1000, 1000]\n",
    "cf2 = [1900, 900, 900, 900, 900, 900]\n",
    "cf_1 = [1000, 1000, 1000, 1000, 1000, 1000,1000, 1000, 1000, 1000, 1000, 1000]\n",
    "cf_2 = [1900, 900, 900, 900, 900, 900,900, 900, 900, 900, 900, 900]\n",
    "len(cf_2)\n",
    "r = .12/12\n",
    "print(\"NPV value with rate \", r, \" is: \", np.npv(r, cf1))\n",
    "print(\"NPV value with rate \", r, \" is: \", np.npv(r, cf2))\n",
    "print(\"NPV value with rate \", r, \" is: \", np.npv(r, cf_1))\n",
    "print(\"NPV value with rate \", r, \" is: \", np.npv(r, cf_2))"
   ]
  },
  {
   "cell_type": "code",
   "execution_count": 5,
   "id": "629b39ba",
   "metadata": {},
   "outputs": [
    {
     "name": "stdout",
     "output_type": "stream",
     "text": [
      "[-24000, 6000, 6000, 6000, 6000, -10000]\n",
      "0.11841015700240476\n"
     ]
    }
   ],
   "source": [
    "A = [6000, 8000, 8000, 8000, 8000, 0] # initial outlay(1st yr) + cashflow for 4 more years + resale value\n",
    "B = [30000, 2000, 2000, 2000, 2000, 10000]\n",
    "\n",
    "subtracted = list()\n",
    "for item1, item2 in zip(A, B):\n",
    "    item = item1 - item2\n",
    "    subtracted.append(item)\n",
    "print(subtracted)\n",
    "\n",
    "AB = [-24000, 6000, 6000, 6000, 6000, 10000] # needed to fix the last element to be positive\n",
    "soln = np.irr(AB)\n",
    "print(soln)"
   ]
  },
  {
   "cell_type": "markdown",
   "id": "15000115",
   "metadata": {},
   "source": [
    "Discussion"
   ]
  },
  {
   "cell_type": "code",
   "execution_count": 6,
   "id": "2cfe3dce",
   "metadata": {},
   "outputs": [],
   "source": [
    "def annuities_perp(p,r,n):\n",
    "    A = (r*(1+r)**n*(p))/((1+r)**n -1)\n",
    "    return A \n",
    "\n",
    "def pv_perp(A, r, n):\n",
    "    p = A/r*(1-(1/(1+r)**n))\n",
    "    return p"
   ]
  },
  {
   "cell_type": "code",
   "execution_count": 39,
   "id": "c709da6c",
   "metadata": {
    "scrolled": false
   },
   "outputs": [
    {
     "data": {
      "text/plain": [
       "377.31699955473374"
      ]
     },
     "execution_count": 39,
     "metadata": {},
     "output_type": "execute_result"
    }
   ],
   "source": [
    "annuities_perp(25000, 0.07/12, 7*12)"
   ]
  },
  {
   "cell_type": "code",
   "execution_count": null,
   "id": "926faa5e",
   "metadata": {},
   "outputs": [],
   "source": [
    "annuities_perp(203150, 0.08083/12, 12*30)"
   ]
  },
  {
   "cell_type": "code",
   "execution_count": 42,
   "id": "36c36f81",
   "metadata": {},
   "outputs": [
    {
     "data": {
      "text/plain": [
       "207209.13284305576"
      ]
     },
     "execution_count": 42,
     "metadata": {},
     "output_type": "execute_result"
    }
   ],
   "source": [
    "pv_perp(1502.41, 0.07875/12, 360)"
   ]
  },
  {
   "cell_type": "code",
   "execution_count": null,
   "id": "5f881276",
   "metadata": {},
   "outputs": [],
   "source": [
    "an"
   ]
  },
  {
   "cell_type": "markdown",
   "id": "3d654934",
   "metadata": {},
   "source": [
    "using numpy"
   ]
  },
  {
   "cell_type": "code",
   "execution_count": 33,
   "id": "486dff6e",
   "metadata": {},
   "outputs": [],
   "source": [
    "#npf.pmt(0.07/12, 12*7, 25000) "
   ]
  },
  {
   "cell_type": "code",
   "execution_count": 35,
   "id": "933129f9",
   "metadata": {
    "scrolled": true
   },
   "outputs": [
    {
     "data": {
      "text/plain": [
       "-1502.4138799779598"
      ]
     },
     "execution_count": 35,
     "metadata": {},
     "output_type": "execute_result"
    }
   ],
   "source": [
    "# npf.pmt(0.08083/12, 12*30, 203150) "
   ]
  },
  {
   "cell_type": "code",
   "execution_count": 7,
   "id": "5a305ed8",
   "metadata": {},
   "outputs": [
    {
     "name": "stdout",
     "output_type": "stream",
     "text": [
      "NPV value with rate  0.1  is:  0.8181818181818181\n"
     ]
    }
   ],
   "source": [
    "cash_stream = [-1.05,0.1,0.1,0.1,0.1,0.1,0.1,0.1,0.1,0.1,1.1]\n",
    "rate = .1\n",
    "#Printing NPV Values\n",
    "print(\"NPV value with rate \", rate, \" is: \", np.npv(rate, v1))"
   ]
  },
  {
   "cell_type": "markdown",
   "id": "621cbe51",
   "metadata": {},
   "source": [
    "### HW4"
   ]
  },
  {
   "cell_type": "code",
   "execution_count": null,
   "id": "5cea861e",
   "metadata": {},
   "outputs": [],
   "source": [
    "#15\n",
    "\n",
    "cash_flow = [500, 900, 600, 500, 100, 100, 100, 50]\n",
    "spot = []"
   ]
  },
  {
   "cell_type": "code",
   "execution_count": null,
   "id": "d8758dec",
   "metadata": {},
   "outputs": [],
   "source": []
  },
  {
   "cell_type": "code",
   "execution_count": null,
   "id": "7c510449",
   "metadata": {},
   "outputs": [],
   "source": []
  },
  {
   "cell_type": "code",
   "execution_count": null,
   "id": "87bdec9a",
   "metadata": {},
   "outputs": [],
   "source": []
  },
  {
   "cell_type": "code",
   "execution_count": null,
   "id": "f1534fb5",
   "metadata": {},
   "outputs": [],
   "source": []
  },
  {
   "cell_type": "code",
   "execution_count": null,
   "id": "59f50791",
   "metadata": {},
   "outputs": [],
   "source": []
  },
  {
   "cell_type": "code",
   "execution_count": null,
   "id": "a670dc7a",
   "metadata": {},
   "outputs": [],
   "source": []
  }
 ],
 "metadata": {
  "kernelspec": {
   "display_name": "Python 3",
   "language": "python",
   "name": "python3"
  },
  "language_info": {
   "codemirror_mode": {
    "name": "ipython",
    "version": 3
   },
   "file_extension": ".py",
   "mimetype": "text/x-python",
   "name": "python",
   "nbconvert_exporter": "python",
   "pygments_lexer": "ipython3",
   "version": "3.8.8"
  },
  "toc": {
   "base_numbering": 1,
   "nav_menu": {},
   "number_sections": true,
   "sideBar": true,
   "skip_h1_title": false,
   "title_cell": "Table of Contents",
   "title_sidebar": "Contents",
   "toc_cell": false,
   "toc_position": {},
   "toc_section_display": true,
   "toc_window_display": false
  }
 },
 "nbformat": 4,
 "nbformat_minor": 5
}
