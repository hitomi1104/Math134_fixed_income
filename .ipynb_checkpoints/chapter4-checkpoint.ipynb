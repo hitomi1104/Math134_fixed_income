{
 "cells": [
  {
   "cell_type": "code",
   "execution_count": 66,
   "id": "31460abc",
   "metadata": {},
   "outputs": [],
   "source": [
    "import numpy as np\n",
    "import numpy_financial as npf\n",
    "import pandas as pd\n",
    "import seaborn as sns\n",
    "from sympy import *\n",
    "df = pd.read_csv(\"m134_4.csv\")\n",
    "\n",
    "import warnings\n",
    "\n",
    "# Configuration\n",
    "warnings.simplefilter('ignore')\n",
    "pd.set_option('max_column', None)\n",
    "sns.set_style(\"darkgrid\")\n",
    "colors = sns.color_palette('Set2')"
   ]
  },
  {
   "cell_type": "markdown",
   "id": "74118c81",
   "metadata": {},
   "source": [
    "### Q11"
   ]
  },
  {
   "cell_type": "code",
   "execution_count": 67,
   "id": "c97fd553",
   "metadata": {},
   "outputs": [],
   "source": [
    "year = [0,1,2,3,4,5,6]\n",
    "stream = [-40,10,10,10,10,10,10]\n",
    "s = [np.nan, 5.0, 5.3, 5.6, 5.8, 6.0, 6.1]\n",
    "spot = [i/100 for i in s]"
   ]
  },
  {
   "cell_type": "code",
   "execution_count": 68,
   "id": "5690c7a9",
   "metadata": {},
   "outputs": [
    {
     "data": {
      "text/html": [
       "<div>\n",
       "<style scoped>\n",
       "    .dataframe tbody tr th:only-of-type {\n",
       "        vertical-align: middle;\n",
       "    }\n",
       "\n",
       "    .dataframe tbody tr th {\n",
       "        vertical-align: top;\n",
       "    }\n",
       "\n",
       "    .dataframe thead th {\n",
       "        text-align: right;\n",
       "    }\n",
       "</style>\n",
       "<table border=\"1\" class=\"dataframe\">\n",
       "  <thead>\n",
       "    <tr style=\"text-align: right;\">\n",
       "      <th></th>\n",
       "      <th>year</th>\n",
       "      <th>stream</th>\n",
       "      <th>spot_r</th>\n",
       "    </tr>\n",
       "  </thead>\n",
       "  <tbody>\n",
       "    <tr>\n",
       "      <th>0</th>\n",
       "      <td>0.0</td>\n",
       "      <td>-40.0</td>\n",
       "      <td>NaN</td>\n",
       "    </tr>\n",
       "    <tr>\n",
       "      <th>1</th>\n",
       "      <td>1.0</td>\n",
       "      <td>10.0</td>\n",
       "      <td>0.050</td>\n",
       "    </tr>\n",
       "    <tr>\n",
       "      <th>2</th>\n",
       "      <td>2.0</td>\n",
       "      <td>10.0</td>\n",
       "      <td>0.053</td>\n",
       "    </tr>\n",
       "    <tr>\n",
       "      <th>3</th>\n",
       "      <td>3.0</td>\n",
       "      <td>10.0</td>\n",
       "      <td>0.056</td>\n",
       "    </tr>\n",
       "    <tr>\n",
       "      <th>4</th>\n",
       "      <td>4.0</td>\n",
       "      <td>10.0</td>\n",
       "      <td>0.058</td>\n",
       "    </tr>\n",
       "    <tr>\n",
       "      <th>5</th>\n",
       "      <td>5.0</td>\n",
       "      <td>10.0</td>\n",
       "      <td>0.060</td>\n",
       "    </tr>\n",
       "    <tr>\n",
       "      <th>6</th>\n",
       "      <td>6.0</td>\n",
       "      <td>10.0</td>\n",
       "      <td>0.061</td>\n",
       "    </tr>\n",
       "  </tbody>\n",
       "</table>\n",
       "</div>"
      ],
      "text/plain": [
       "   year  stream  spot_r\n",
       "0   0.0   -40.0     NaN\n",
       "1   1.0    10.0   0.050\n",
       "2   2.0    10.0   0.053\n",
       "3   3.0    10.0   0.056\n",
       "4   4.0    10.0   0.058\n",
       "5   5.0    10.0   0.060\n",
       "6   6.0    10.0   0.061"
      ]
     },
     "execution_count": 68,
     "metadata": {},
     "output_type": "execute_result"
    }
   ],
   "source": [
    "new_list = [year, stream, spot]\n",
    "\n",
    "df = pd.DataFrame(new_list).transpose()\n",
    "df.columns = ['year','stream', 'spot_r']\n",
    "df"
   ]
  },
  {
   "cell_type": "code",
   "execution_count": 69,
   "id": "37e17fc8",
   "metadata": {},
   "outputs": [],
   "source": [
    "df[\"discount_r\"] = 1 / (1 + df[\"spot_r\"])**df[\"year\"]"
   ]
  },
  {
   "cell_type": "code",
   "execution_count": 70,
   "id": "63c9b472",
   "metadata": {
    "scrolled": true
   },
   "outputs": [
    {
     "data": {
      "text/html": [
       "<div>\n",
       "<style scoped>\n",
       "    .dataframe tbody tr th:only-of-type {\n",
       "        vertical-align: middle;\n",
       "    }\n",
       "\n",
       "    .dataframe tbody tr th {\n",
       "        vertical-align: top;\n",
       "    }\n",
       "\n",
       "    .dataframe thead th {\n",
       "        text-align: right;\n",
       "    }\n",
       "</style>\n",
       "<table border=\"1\" class=\"dataframe\">\n",
       "  <thead>\n",
       "    <tr style=\"text-align: right;\">\n",
       "      <th></th>\n",
       "      <th>year</th>\n",
       "      <th>stream</th>\n",
       "      <th>spot_r</th>\n",
       "      <th>discount_r</th>\n",
       "    </tr>\n",
       "  </thead>\n",
       "  <tbody>\n",
       "    <tr>\n",
       "      <th>0</th>\n",
       "      <td>0.0</td>\n",
       "      <td>-40.0</td>\n",
       "      <td>NaN</td>\n",
       "      <td>1.000000</td>\n",
       "    </tr>\n",
       "    <tr>\n",
       "      <th>1</th>\n",
       "      <td>1.0</td>\n",
       "      <td>10.0</td>\n",
       "      <td>0.050</td>\n",
       "      <td>0.952381</td>\n",
       "    </tr>\n",
       "    <tr>\n",
       "      <th>2</th>\n",
       "      <td>2.0</td>\n",
       "      <td>10.0</td>\n",
       "      <td>0.053</td>\n",
       "      <td>0.901869</td>\n",
       "    </tr>\n",
       "    <tr>\n",
       "      <th>3</th>\n",
       "      <td>3.0</td>\n",
       "      <td>10.0</td>\n",
       "      <td>0.056</td>\n",
       "      <td>0.849197</td>\n",
       "    </tr>\n",
       "    <tr>\n",
       "      <th>4</th>\n",
       "      <td>4.0</td>\n",
       "      <td>10.0</td>\n",
       "      <td>0.058</td>\n",
       "      <td>0.798100</td>\n",
       "    </tr>\n",
       "    <tr>\n",
       "      <th>5</th>\n",
       "      <td>5.0</td>\n",
       "      <td>10.0</td>\n",
       "      <td>0.060</td>\n",
       "      <td>0.747258</td>\n",
       "    </tr>\n",
       "    <tr>\n",
       "      <th>6</th>\n",
       "      <td>6.0</td>\n",
       "      <td>10.0</td>\n",
       "      <td>0.061</td>\n",
       "      <td>0.700983</td>\n",
       "    </tr>\n",
       "  </tbody>\n",
       "</table>\n",
       "</div>"
      ],
      "text/plain": [
       "   year  stream  spot_r  discount_r\n",
       "0   0.0   -40.0     NaN    1.000000\n",
       "1   1.0    10.0   0.050    0.952381\n",
       "2   2.0    10.0   0.053    0.901869\n",
       "3   3.0    10.0   0.056    0.849197\n",
       "4   4.0    10.0   0.058    0.798100\n",
       "5   5.0    10.0   0.060    0.747258\n",
       "6   6.0    10.0   0.061    0.700983"
      ]
     },
     "execution_count": 70,
     "metadata": {},
     "output_type": "execute_result"
    }
   ],
   "source": [
    "df"
   ]
  },
  {
   "cell_type": "code",
   "execution_count": 72,
   "id": "043978e0",
   "metadata": {},
   "outputs": [
    {
     "name": "stdout",
     "output_type": "stream",
     "text": [
      "npv:  9.497876784246987\n"
     ]
    }
   ],
   "source": [
    "#numpy.npv(rate, values)\n",
    "npv = np.npv(df[\"spot_r\"], df[\"stream\"])\n",
    "print(\"npv: \", npv)"
   ]
  },
  {
   "cell_type": "code",
   "execution_count": null,
   "id": "f12ae83d",
   "metadata": {},
   "outputs": [],
   "source": [
    "df[\"\"]"
   ]
  },
  {
   "cell_type": "code",
   "execution_count": null,
   "id": "ba0841cc",
   "metadata": {},
   "outputs": [],
   "source": []
  },
  {
   "cell_type": "code",
   "execution_count": null,
   "id": "b00316fa",
   "metadata": {},
   "outputs": [],
   "source": []
  },
  {
   "cell_type": "code",
   "execution_count": null,
   "id": "7e4a7fec",
   "metadata": {},
   "outputs": [],
   "source": []
  },
  {
   "cell_type": "code",
   "execution_count": null,
   "id": "92734d0d",
   "metadata": {},
   "outputs": [],
   "source": []
  },
  {
   "cell_type": "code",
   "execution_count": null,
   "id": "21c23eb3",
   "metadata": {},
   "outputs": [],
   "source": []
  },
  {
   "cell_type": "markdown",
   "id": "29d9566f",
   "metadata": {},
   "source": [
    "### Q15 "
   ]
  },
  {
   "cell_type": "code",
   "execution_count": 10,
   "id": "24b63aa9",
   "metadata": {},
   "outputs": [
    {
     "name": "stdout",
     "output_type": "stream",
     "text": [
      "2.4354491434287118\n",
      "5428.898194560004\n",
      "2.4354491434287118\n",
      "2229.115811844467\n"
     ]
    }
   ],
   "source": [
    "df[\"spot_r\"] = [i*.01 for i in df[\"spot\"]]\n",
    "# df[\"discount\"] = [1/(1+i) for i in df[\"spot_r\"]]\n",
    "df[\"discount_r\"] = 1 / (1 + df[\"spot_r\"])**df[\"year\"]\n",
    "df[\"PV\"] = df[\"stream\"] * df[\"discount_r\"]\n",
    "df[\"mD\"] = df[\"PV\"] / sum(df[\"PV\"])\n",
    "df[\"qD\"] = df[\"stream\"]*df[\"year\"]/(1+df[\"spot_r\"])**[i+1 for i in df[\"year\"]]\n",
    "D_obl = sum(df[\"PV\"]) / sum(df[\"qD\"])\n",
    "print(sum(df[\"qD\"])/sum(df[\"PV\"]))\n",
    "print(sum(df[\"qD\"]))\n",
    "print(sum(df[\"qD\"])/sum(df[\"PV\"]))\n",
    "print(sum(df[\"PV\"]))"
   ]
  },
  {
   "cell_type": "code",
   "execution_count": 19,
   "id": "58b2f471",
   "metadata": {},
   "outputs": [
    {
     "data": {
      "text/plain": [
       "array([-13.92778499,  30.96666403])"
      ]
     },
     "execution_count": 19,
     "metadata": {},
     "output_type": "execute_result"
    }
   ],
   "source": [
    "a = np.array([[65.98, 101.66], [65.98*7.11, 101.66*3.80]])\n",
    "b = np.array([sum(df[\"PV\"]), sum(df[\"PV\"])*sum(df[\"qD\"])/sum(df[\"PV\"])])\n",
    "x = np.linalg.solve(a,b)\n",
    "x"
   ]
  },
  {
   "cell_type": "code",
   "execution_count": null,
   "id": "db0ad4dc",
   "metadata": {},
   "outputs": [],
   "source": []
  }
 ],
 "metadata": {
  "kernelspec": {
   "display_name": "Python 3",
   "language": "python",
   "name": "python3"
  },
  "language_info": {
   "codemirror_mode": {
    "name": "ipython",
    "version": 3
   },
   "file_extension": ".py",
   "mimetype": "text/x-python",
   "name": "python",
   "nbconvert_exporter": "python",
   "pygments_lexer": "ipython3",
   "version": "3.8.8"
  },
  "toc": {
   "base_numbering": 1,
   "nav_menu": {},
   "number_sections": true,
   "sideBar": true,
   "skip_h1_title": false,
   "title_cell": "Table of Contents",
   "title_sidebar": "Contents",
   "toc_cell": false,
   "toc_position": {},
   "toc_section_display": true,
   "toc_window_display": false
  }
 },
 "nbformat": 4,
 "nbformat_minor": 5
}
